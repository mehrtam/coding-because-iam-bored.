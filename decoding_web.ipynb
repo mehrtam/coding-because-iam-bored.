{
  "nbformat": 4,
  "nbformat_minor": 0,
  "metadata": {
    "colab": {
      "provenance": []
    },
    "kernelspec": {
      "name": "python3",
      "display_name": "Python 3"
    },
    "language_info": {
      "name": "python"
    }
  },
  "cells": [
    {
      "cell_type": "code",
      "source": [
        "import requests\n",
        "from bs4 import BeautifulSoup\n",
        "\n",
        "def print_grid_from_google_doc(url):\n",
        "    # Get the document HTML content\n",
        "    response = requests.get(url)\n",
        "    response.raise_for_status()\n",
        "\n",
        "    # Parse the document HTML content\n",
        "    soup = BeautifulSoup(response.text, 'html.parser')\n",
        "\n",
        "    # Extract data from the table\n",
        "    table = soup.find('table')\n",
        "    rows = table.find_all('tr')[1:]  # Skip header row\n",
        "\n",
        "    data = []\n",
        "    max_x, max_y = 0, 0\n",
        "\n",
        "    for row in rows:\n",
        "        cells = row.find_all('td')\n",
        "        x = int(cells[0].text.strip())\n",
        "        char = cells[1].text.strip()\n",
        "        y = int(cells[2].text.strip())\n",
        "\n",
        "        data.append((x, y, char))\n",
        "        max_x = max(max_x, x)\n",
        "        max_y = max(max_y, y)\n",
        "\n",
        "    # Initialize grid with spaces\n",
        "    grid = [[' ' for _ in range(max_x + 1)] for _ in range(max_y + 1)]\n",
        "\n",
        "    # Fill grid with characters\n",
        "    for x, y, char in data:\n",
        "        grid[y][x] = char\n",
        "\n",
        "    # Print the grid (correct orientation)\n",
        "    for row in reversed(grid):\n",
        "        print(''.join(row))"
      ],
      "metadata": {
        "id": "SXsjlgKbT2dN"
      },
      "execution_count": null,
      "outputs": []
    },
    {
      "cell_type": "code",
      "source": [
        "print_grid_from_google_doc('https://docs.google.com/document/d/e/2PACX-1vQGUck9HIFCyezsrBSnmENk5ieJuYwpt7YHYEzeNJkIb9OSDdx-ov2nRNReKQyey-cwJOoEKUhLmN9z/pub')"
      ],
      "metadata": {
        "colab": {
          "base_uri": "https://localhost:8080/"
        },
        "id": "UiSvNDhQTWwQ",
        "outputId": "5d84eee4-82bd-4c68-e1f4-0df1098bc550"
      },
      "execution_count": null,
      "outputs": [
        {
          "output_type": "stream",
          "name": "stdout",
          "text": [
            "████████░     ████████░   ██████████░    ███████░  ██░           ███░ ███░    ███░ ██░     ██░\n",
            "██░     ██░ ███░     ███░ ██░          ███░    ██░ ███░   ███░   ██░    ██░  ██░   ██░     ██░\n",
            "██░     ██░ ██░       ██░ ██░         ███░          ██░  █████░ ███░     ██░██░    ██░     ██░\n",
            "████████░   ██░       ██░ ████████░   ██░           ███░ ██░██░ ██░       ███░     ██████████░\n",
            "██░     ██░ ██░       ██░ ██░         ███░           ██░██░ ██░██░       ██░██░    ██░     ██░\n",
            "██░     ██░ ███░     ███░ ██░          ███░    ██░   ████░   ████░      ██░  ██░   ██░     ██░\n",
            "████████░     ████████░   ██████████░    ███████░     ██░     ██░     ███░    ███░ ██░     ██░\n"
          ]
        }
      ]
    },
    {
      "cell_type": "code",
      "source": [],
      "metadata": {
        "id": "EPxsmJrsTaiW"
      },
      "execution_count": null,
      "outputs": []
    }
  ]
}