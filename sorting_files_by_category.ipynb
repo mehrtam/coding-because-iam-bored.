{
  "nbformat": 4,
  "nbformat_minor": 0,
  "metadata": {
    "colab": {
      "provenance": []
    },
    "kernelspec": {
      "name": "python3",
      "display_name": "Python 3"
    },
    "language_info": {
      "name": "python"
    }
  },
  "cells": [
    {
      "cell_type": "code",
      "execution_count": null,
      "metadata": {
        "id": "eiZzNmZ2UZ7e"
      },
      "outputs": [],
      "source": [
        "import os\n",
        "import shutil\n",
        "\n",
        "FILE_TYPES = {\n",
        "    \"Images\": ['.jpg', '.jpeg', '.png', '.gif'],\n",
        "    \"Documents\": ['.pdf', '.txt', '.docx'],\n",
        "    \"Code\": ['.py', '.js', '.html', '.cpp', '.java'],\n",
        "    \"Music\": ['.mp3', '.wav'],\n",
        "    \"Videos\": ['.mp4', '.mov', '.avi'],\n",
        "    \"Archives\": ['.zip', '.rar', '.tar'],\n",
        "}\n",
        "\n",
        "target_folder = \"./test_folder\"  # Your messy folder to organize\n",
        "\n",
        "for filename in os.listdir(target_folder):\n",
        "    file_path = os.path.join(target_folder, filename)\n",
        "\n",
        "    if os.path.isdir(file_path):\n",
        "        continue\n",
        "\n",
        "    _, ext = os.path.splitext(filename)\n",
        "\n",
        "    for category, extensions in FILE_TYPES.items():\n",
        "        if ext.lower() in extensions:\n",
        "            category_path = os.path.join(target_folder, category)\n",
        "            os.makedirs(category_path, exist_ok=True)\n",
        "            shutil.move(file_path, os.path.join(category_path, filename))\n",
        "            print(f\"Moved {filename} to {category}/\")\n",
        "            break\n"
      ]
    },
    {
      "cell_type": "code",
      "source": [],
      "metadata": {
        "id": "A8zlJVyWUbiA"
      },
      "execution_count": null,
      "outputs": []
    }
  ]
}