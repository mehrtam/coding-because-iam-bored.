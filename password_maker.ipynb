{
  "nbformat": 4,
  "nbformat_minor": 0,
  "metadata": {
    "colab": {
      "provenance": []
    },
    "kernelspec": {
      "name": "python3",
      "display_name": "Python 3"
    },
    "language_info": {
      "name": "python"
    }
  },
  "cells": [
    {
      "cell_type": "code",
      "execution_count": null,
      "metadata": {
        "colab": {
          "base_uri": "https://localhost:8080/"
        },
        "id": "WSPn7Kp8w-z_",
        "outputId": "241138ab-cd4a-4804-e888-b06b87304d95"
      },
      "outputs": [
        {
          "output_type": "stream",
          "name": "stdout",
          "text": [
            "sphinx of black quartz judge my vow\n",
            "jinxed wizards pluck ivy from the big quilt\n",
            "how vexingly quick daft zebras jump\n",
            "the five boxing wizards jump quickly\n",
            "the quick brown fox jumps over the lazy dog\n",
            "amazingly few discotheques provide jukeboxes\n",
            "bright vixens jump dozy fowl quack\n",
            "pack my box with five dozen liquor jugs\n",
            "waltz nymph for quick jigs vex bud\n",
            "jackdaws love my big sphinx of quartz\n",
            "jumpy halfling dwarves vex bold knight\n",
            "glib jocks quiz nymph to vex dwarf\n",
            "--------------------------------------------------\n",
            "pack my box with five dozen liquor jugs\n",
            "jinxed wizards pluck ivy from the big quilt\n",
            "the quick brown fox jumps over the lazy dog\n",
            "glib jocks quiz nymph to vex dwarf\n",
            "the five boxing wizards jump quickly\n",
            "waltz nymph for quick jigs vex bud\n",
            "sphinx of black quartz judge my vow\n",
            "how vexingly quick daft zebras jump\n",
            "jackdaws love my big sphinx of quartz\n",
            "bright vixens jump dozy fowl quack\n",
            "amazingly few discotheques provide jukeboxes\n",
            "jumpy halfling dwarves vex bold knight\n",
            "--------------------------------------------------\n",
            "how vexingly quick daft zebras jump\n",
            "amazingly few discotheques provide jukeboxes\n",
            "bright vixens jump dozy fowl quack\n",
            "the five boxing wizards jump quickly\n",
            "jinxed wizards pluck ivy from the big quilt\n",
            "pack my box with five dozen liquor jugs\n",
            "glib jocks quiz nymph to vex dwarf\n",
            "sphinx of black quartz judge my vow\n",
            "jumpy halfling dwarves vex bold knight\n",
            "the quick brown fox jumps over the lazy dog\n",
            "jackdaws love my big sphinx of quartz\n",
            "waltz nymph for quick jigs vex bud\n",
            "--------------------------------------------------\n"
          ]
        }
      ],
      "source": [
        "import string\n",
        "import random\n",
        "\n",
        "def preprocess_sentence(sentence):\n",
        "    # Convert to lowercase\n",
        "    sentence = sentence.lower()\n",
        "\n",
        "    # Remove punctuation\n",
        "    sentence = sentence.translate(str.maketrans('', '', string.punctuation))\n",
        "\n",
        "    # Extract numbers (if any)\n",
        "    numbers = ''.join(filter(str.isdigit, sentence))\n",
        "\n",
        "    return sentence, numbers\n",
        "\n",
        "def shuffle_and_print(sentences):\n",
        "    # Preprocess all sentences\n",
        "    preprocessed_sentences = [preprocess_sentence(s)[0] for s in sentences]\n",
        "\n",
        "    # Shuffle the sentences randomly\n",
        "    random.shuffle(preprocessed_sentences)\n",
        "\n",
        "    # Print each sentence on a new line\n",
        "    for sentence in preprocessed_sentences:\n",
        "        print(sentence)\n",
        "    print(\"-\" * 50)  # Separator for clarity\n",
        "\n",
        "# List of pangrams\n",
        "pangrams = [\n",
        "    \"The quick brown fox jumps over the lazy dog.\",\n",
        "    \"Pack my box with five dozen liquor jugs.\",\n",
        "    \"How vexingly quick daft zebras jump!\",\n",
        "    \"Jinxed wizards pluck ivy from the big quilt.\",\n",
        "    \"Sphinx of black quartz, judge my vow.\",\n",
        "    \"The five boxing wizards jump quickly.\",\n",
        "    \"Jackdaws love my big sphinx of quartz.\",\n",
        "    \"Waltz, nymph, for quick jigs vex Bud.\",\n",
        "    \"Glib jocks quiz nymph to vex dwarf.\",\n",
        "    \"Bright vixens jump dozy fowl quack.\",\n",
        "    \"Jumpy halfling dwarves vex bold knight.\",\n",
        "    \"Amazingly few discotheques provide jukeboxes.\"\n",
        "]\n",
        "\n",
        "# Run multiple times to see different random orders\n",
        "for _ in range(3):  # Change the number for more repetitions\n",
        "    shuffle_and_print(pangrams)\n",
        "\n"
      ]
    },
    {
      "cell_type": "code",
      "source": [
        "!pip install short_url"
      ],
      "metadata": {
        "colab": {
          "base_uri": "https://localhost:8080/"
        },
        "id": "VKBcHibVwqOI",
        "outputId": "3e71a8d1-a74e-4931-9261-b1ebb9f3067a"
      },
      "execution_count": null,
      "outputs": [
        {
          "output_type": "stream",
          "name": "stdout",
          "text": [
            "Collecting short_url\n",
            "  Downloading short_url-1.2.2.tar.gz (4.3 kB)\n",
            "  Preparing metadata (setup.py) ... \u001b[?25l\u001b[?25hdone\n",
            "Building wheels for collected packages: short_url\n",
            "  Building wheel for short_url (setup.py) ... \u001b[?25l\u001b[?25hdone\n",
            "  Created wheel for short_url: filename=short_url-1.2.2-py2.py3-none-any.whl size=5382 sha256=6535122d7d3b7946401e2d0dd38569046f30a50e44cbf6158c1a17d3dc643d04\n",
            "  Stored in directory: /root/.cache/pip/wheels/cc/59/d9/2fe8d1260ef98bdcc6d56ea8e2ee81c03a7550c0b50d9ce748\n",
            "Successfully built short_url\n",
            "Installing collected packages: short_url\n",
            "Successfully installed short_url-1.2.2\n"
          ]
        }
      ]
    },
    {
      "cell_type": "code",
      "source": [
        "import random\n",
        "import string\n",
        "\n",
        "def generate_password(length=12):\n",
        "    if length < 12:\n",
        "        print(\"Password length should be at least 12 for security.\")\n",
        "        return None\n",
        "\n",
        "    # Define character sets\n",
        "    uppercase = string.ascii_uppercase  # 'ABCDEFGHIJKLMNOPQRSTUVWXYZ'\n",
        "    lowercase = string.ascii_lowercase  # 'abcdefghijklmnopqrstuvwxyz'\n",
        "    digits = string.digits              # '0123456789'\n",
        "    special_chars = \"!@#$%^&*()-_=+\"    # Custom special characters\n",
        "\n",
        "    # Ensure at least one of each type is included\n",
        "    password = [\n",
        "        random.choice(uppercase),\n",
        "        random.choice(lowercase),\n",
        "        random.choice(digits),\n",
        "        random.choice(special_chars)\n",
        "    ]\n",
        "\n",
        "    # Fill the remaining characters randomly from all sets\n",
        "    all_chars = uppercase + lowercase + digits + special_chars\n",
        "    password += random.choices(all_chars, k=length - 4)\n",
        "\n",
        "    # Shuffle to make it more random\n",
        "    random.shuffle(password)\n",
        "\n",
        "    return \"\".join(password)\n",
        "\n",
        "# Get user input for password length\n",
        "length = int(input(\"Enter the desired password length (minimum 12): \"))\n",
        "password = generate_password(length)\n",
        "\n",
        "if password:\n",
        "    print(\"Generated Strong Password:\", password)\n"
      ],
      "metadata": {
        "id": "stkyCZkPxwUv"
      },
      "execution_count": null,
      "outputs": []
    },
    {
      "cell_type": "code",
      "source": [],
      "metadata": {
        "id": "nhu9aFiGyXdZ"
      },
      "execution_count": null,
      "outputs": []
    }
  ]
}